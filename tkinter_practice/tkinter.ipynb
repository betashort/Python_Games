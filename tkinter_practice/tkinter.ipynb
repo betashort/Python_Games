{
 "cells": [
  {
   "cell_type": "code",
   "execution_count": 1,
   "metadata": {},
   "outputs": [],
   "source": [
    "from tkinter import filedialog"
   ]
  },
  {
   "cell_type": "code",
   "execution_count": 3,
   "metadata": {},
   "outputs": [
    {
     "name": "stdout",
     "output_type": "stream",
     "text": [
      "/Users/betashort/Downloads/キャプチャ.PNG\n"
     ]
    }
   ],
   "source": [
    "#typ = [('テキストファイル', '*.txt')]\n",
    "\n",
    "#file = filedialog.askopenfilename(filetypes=typ)\n",
    "\n",
    "file = filedialog.askopenfilename()\n",
    "\n",
    "print(file)"
   ]
  },
  {
   "cell_type": "markdown",
   "metadata": {},
   "source": [
    "# filedialog\n",
    "https://docs.python.org/3.9/library/dialog.html\n",
    "\n",
    "## オプション\n",
    "\n",
    "parent -   \n",
    "title -    \n",
    "initialdir -   \n",
    "filetypes -   \n",
    "defaultextension -   \n",
    "multiple  \n"
   ]
  },
  {
   "cell_type": "code",
   "execution_count": 24,
   "metadata": {},
   "outputs": [],
   "source": [
    "filetypes = [(\"テキストファイル\", \"*.text\"),\n",
    "             (\"pdf\", \"*.pdf\"),\n",
    "             (\"csvファイル\", \"*.csv\")]"
   ]
  },
  {
   "cell_type": "code",
   "execution_count": 30,
   "metadata": {},
   "outputs": [],
   "source": [
    "files = filedialog.askopenfilenames(filetypes = filetypes)"
   ]
  },
  {
   "cell_type": "code",
   "execution_count": 31,
   "metadata": {},
   "outputs": [
    {
     "data": {
      "text/plain": [
       "('/Users/betashort/Downloads/2NC基礎情報数学B.pdf',)"
      ]
     },
     "execution_count": 31,
     "metadata": {},
     "output_type": "execute_result"
    }
   ],
   "source": [
    "files"
   ]
  },
  {
   "cell_type": "markdown",
   "metadata": {},
   "source": [
    "## askopenfileとaskopenfilenameの違い\n",
    "\n",
    "ファイルのパスだけを知りたい場合は、aksopenfilenameを使えばいい"
   ]
  },
  {
   "cell_type": "code",
   "execution_count": 32,
   "metadata": {},
   "outputs": [],
   "source": [
    "file = filedialog.askopenfilename()"
   ]
  },
  {
   "cell_type": "code",
   "execution_count": 33,
   "metadata": {},
   "outputs": [
    {
     "data": {
      "text/plain": [
       "''"
      ]
     },
     "execution_count": 33,
     "metadata": {},
     "output_type": "execute_result"
    }
   ],
   "source": [
    "file"
   ]
  },
  {
   "cell_type": "code",
   "execution_count": 20,
   "metadata": {},
   "outputs": [],
   "source": [
    "file = filedialog.askopenfile()"
   ]
  },
  {
   "cell_type": "code",
   "execution_count": 21,
   "metadata": {},
   "outputs": [
    {
     "data": {
      "text/plain": [
       "<_io.TextIOWrapper name='/Users/betashort/Downloads/論文_まとめ.jpg' mode='r' encoding='UTF-8'>"
      ]
     },
     "execution_count": 21,
     "metadata": {},
     "output_type": "execute_result"
    }
   ],
   "source": [
    "file"
   ]
  },
  {
   "cell_type": "code",
   "execution_count": 22,
   "metadata": {},
   "outputs": [
    {
     "data": {
      "text/plain": [
       "'/Users/betashort/Downloads/論文_まとめ.jpg'"
      ]
     },
     "execution_count": 22,
     "metadata": {},
     "output_type": "execute_result"
    }
   ],
   "source": [
    "file.name"
   ]
  },
  {
   "cell_type": "markdown",
   "metadata": {},
   "source": [
    "## askopenfilenameとaskopenfilenamesの違い\n",
    "\n",
    "askopenfilenameは、１つのファイルしか選択できない  \n",
    "askopenfilenamesは、1つでも複数でも選択できる。返却値は、タプル型になっている。"
   ]
  },
  {
   "cell_type": "code",
   "execution_count": 15,
   "metadata": {},
   "outputs": [],
   "source": [
    "file = filedialog.askopenfilename()"
   ]
  },
  {
   "cell_type": "code",
   "execution_count": 16,
   "metadata": {},
   "outputs": [
    {
     "data": {
      "text/plain": [
       "'/Users/betashort/Downloads/論文_まとめ.jpg'"
      ]
     },
     "execution_count": 16,
     "metadata": {},
     "output_type": "execute_result"
    }
   ],
   "source": [
    "file"
   ]
  },
  {
   "cell_type": "code",
   "execution_count": 17,
   "metadata": {},
   "outputs": [],
   "source": [
    "files = filedialog.askopenfilenames()"
   ]
  },
  {
   "cell_type": "code",
   "execution_count": 18,
   "metadata": {},
   "outputs": [
    {
     "data": {
      "text/plain": [
       "('/Users/betashort/Downloads/論文_まとめ.jpg',\n",
       " '/Users/betashort/Downloads/20191001.doc',\n",
       " '/Users/betashort/Downloads/first_slide.pdf',\n",
       " '/Users/betashort/Downloads/first_slide.pptx',\n",
       " '/Users/betashort/Downloads/2020度特別演習(前期)課題(1).docx',\n",
       " '/Users/betashort/Downloads/2NC基礎情報数学B.pdf',\n",
       " '/Users/betashort/Downloads/キャプチャ.PNG',\n",
       " '/Users/betashort/Downloads/BIDS-Specification-v1.3.0.pdf',\n",
       " '/Users/betashort/Downloads/2020度特別演習(前期)課題.docx',\n",
       " '/Users/betashort/Downloads/2019_全体輪講(ガイダンス資料).docx')"
      ]
     },
     "execution_count": 18,
     "metadata": {},
     "output_type": "execute_result"
    }
   ],
   "source": [
    "files"
   ]
  },
  {
   "cell_type": "markdown",
   "metadata": {},
   "source": [
    "## save\n",
    "\n",
    "保存用のWindowが開いて、ファイル名を入力させる。  \n",
    "返却値は、保存用ファイルのPathである。"
   ]
  },
  {
   "cell_type": "code",
   "execution_count": 23,
   "metadata": {},
   "outputs": [
    {
     "data": {
      "text/plain": [
       "'/Users/betashort/Downloads/abc.png'"
      ]
     },
     "execution_count": 23,
     "metadata": {},
     "output_type": "execute_result"
    }
   ],
   "source": [
    "filedialog.asksaveasfilename()"
   ]
  },
  {
   "cell_type": "code",
   "execution_count": null,
   "metadata": {},
   "outputs": [],
   "source": []
  }
 ],
 "metadata": {
  "kernelspec": {
   "display_name": "Python 3",
   "language": "python",
   "name": "python3"
  },
  "language_info": {
   "codemirror_mode": {
    "name": "ipython",
    "version": 3
   },
   "file_extension": ".py",
   "mimetype": "text/x-python",
   "name": "python",
   "nbconvert_exporter": "python",
   "pygments_lexer": "ipython3",
   "version": "3.7.5"
  }
 },
 "nbformat": 4,
 "nbformat_minor": 2
}
