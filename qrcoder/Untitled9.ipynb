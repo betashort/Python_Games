{
 "cells": [
  {
   "cell_type": "code",
   "execution_count": 2,
   "metadata": {},
   "outputs": [],
   "source": [
    "import tkinter as tk\n",
    "import qrcode\n",
    "\n",
    "def click():\n",
    "    url = entry.get()\n",
    "    qr_img = qrcode.make(url)\n",
    "    qr_img.save(\"output.png\")\n",
    "    #画像の貼り付け\n",
    "    #キャンバスの座標は、画像の中心が基準になっている。\n",
    "    #キャンバスを作成\n",
    "    canvas = tk.Canvas(width=320, height=480)\n",
    "    #キャンバスを貼り付ける\n",
    "    canvas.place(x=0, y=0)\n",
    "    \n",
    "    img = tk.PhotoImage(file=\"output.png\")\n",
    "    img = img.subsample(4)\n",
    "    canvas.create_image(320, 240, image=img, tag=\"tag_name\")\n",
    "    l[\"text\"] = \"Create QRcode : Done\"\n",
    "    \n",
    "\n",
    "root = tk.Tk()\n",
    "root.title()\n",
    "root.minsize(640, 480)\n",
    "\n",
    "#ウィンドウにテキストを貼り付ける\n",
    "l = tk.Label(text=\"Create QRcode : None\")\n",
    "l.place(x=0, y=0)\n",
    "\n",
    "#テキストボックス\n",
    "entry = tk.Entry(text=\"input URL\", width=30, bd=4)\n",
    "entry.place(x=0, y=50)    \n",
    "    \n",
    "#ボタン\n",
    "button = tk.Button(text=\"create QRcode\")\n",
    "button.place(x=0, y=80)\n",
    "\n",
    "button[\"command\"] = click\n",
    "\n",
    "root.mainloop()"
   ]
  },
  {
   "cell_type": "code",
   "execution_count": null,
   "metadata": {},
   "outputs": [],
   "source": []
  }
 ],
 "metadata": {
  "kernelspec": {
   "display_name": "Python 3",
   "language": "python",
   "name": "python3"
  },
  "language_info": {
   "codemirror_mode": {
    "name": "ipython",
    "version": 3
   },
   "file_extension": ".py",
   "mimetype": "text/x-python",
   "name": "python",
   "nbconvert_exporter": "python",
   "pygments_lexer": "ipython3",
   "version": "3.6.6"
  }
 },
 "nbformat": 4,
 "nbformat_minor": 2
}
