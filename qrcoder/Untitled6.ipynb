{
 "cells": [
  {
   "cell_type": "code",
   "execution_count": 1,
   "metadata": {},
   "outputs": [],
   "source": [
    "import qrcode as qr\n",
    "import tkinter as tk\n",
    "import tkinter.filedialog as fd\n",
    "from PIL import ImageTk"
   ]
  },
  {
   "cell_type": "code",
   "execution_count": 3,
   "metadata": {},
   "outputs": [
    {
     "name": "stderr",
     "output_type": "stream",
     "text": [
      "Exception in Tkinter callback\n",
      "Exception ignored in: <bound method PhotoImage.__del__ of <PIL.ImageTk.PhotoImage object at 0x10d7bc470>>\n",
      "Traceback (most recent call last):\n",
      "  File \"/anaconda3/lib/python3.6/site-packages/PIL/ImageTk.py\", line 123, in __del__\n",
      "    name = self.__photo.name\n",
      "AttributeError: 'PhotoImage' object has no attribute '_PhotoImage__photo'\n",
      "Traceback (most recent call last):\n",
      "  File \"/anaconda3/lib/python3.6/tkinter/__init__.py\", line 1702, in __call__\n",
      "    return self.func(*args)\n",
      "  File \"<ipython-input-3-eb637432229a>\", line 13, in generate\n",
      "    qr_label.tk_img = ImageTk.PhotoImage(qr_label.qr_img.size)\n",
      "  File \"/anaconda3/lib/python3.6/site-packages/PIL/ImageTk.py\", line 113, in __init__\n",
      "    mode = Image.getmodebase(mode)\n",
      "  File \"/anaconda3/lib/python3.6/site-packages/PIL/Image.py\", line 327, in getmodebase\n",
      "    return ImageMode.getmode(mode).basemode\n",
      "  File \"/anaconda3/lib/python3.6/site-packages/PIL/ImageMode.py\", line 56, in getmode\n",
      "    return _modes[mode]\n",
      "KeyError: (330, 330)\n",
      "Exception in Tkinter callback\n",
      "Exception ignored in: <bound method PhotoImage.__del__ of <PIL.ImageTk.PhotoImage object at 0x10d7bc1d0>>\n",
      "Traceback (most recent call last):\n",
      "  File \"/anaconda3/lib/python3.6/site-packages/PIL/ImageTk.py\", line 123, in __del__\n",
      "    name = self.__photo.name\n",
      "AttributeError: 'PhotoImage' object has no attribute '_PhotoImage__photo'\n",
      "Traceback (most recent call last):\n",
      "  File \"/anaconda3/lib/python3.6/tkinter/__init__.py\", line 1702, in __call__\n",
      "    return self.func(*args)\n",
      "  File \"<ipython-input-3-eb637432229a>\", line 13, in generate\n",
      "    qr_label.tk_img = ImageTk.PhotoImage(qr_label.qr_img.size)\n",
      "  File \"/anaconda3/lib/python3.6/site-packages/PIL/ImageTk.py\", line 113, in __init__\n",
      "    mode = Image.getmodebase(mode)\n",
      "  File \"/anaconda3/lib/python3.6/site-packages/PIL/Image.py\", line 327, in getmodebase\n",
      "    return ImageMode.getmode(mode).basemode\n",
      "  File \"/anaconda3/lib/python3.6/site-packages/PIL/ImageMode.py\", line 56, in getmode\n",
      "    return _modes[mode]\n",
      "KeyError: (330, 330)\n"
     ]
    }
   ],
   "source": [
    "base = tk.Tk()\n",
    "base.title('QRcoder')\n",
    "input_area = tk.Frame(base, relief=tk.RAISED, bd=2)\n",
    "image_area = tk.Frame(base, relief=tk.SUNKEN, bd=2)\n",
    "encode_text = tk.StringVar()\n",
    "entry = tk.Entry(input_area, textvariable=encode_text).pack(side=tk.LEFT)\n",
    "\n",
    "qr_label = tk.Label(image_area)\n",
    "'''\n",
    "qr = qrcode.QRCode()\n",
    "qr.add_data('test text')\n",
    "qr.make()\n",
    "img = qr.make_image()\n",
    "img.save('data/dst/qrcode_test2.png')\n",
    "'''\n",
    "def generate():\n",
    "    qr_label.qr_img = qr.make(encode_text.get())\n",
    "    img_width, img_height = qr_label.qr_img.size\n",
    "    qr_label.tk_img = ImageTk.PhotoImage(qr_label.qr_img.size)\n",
    "    qr_label.config(image=qr_label.tk_img, width=img_width, height=img_height)\n",
    "    qr_label.pach()\n",
    "    \n",
    "encode_button = tk.Button(input_area, text='QRcede', command=generate).pack(side=tk.LEFT)\n",
    "input_area.pack(pady=5)\n",
    "image_area.pack(padx=3, pady=1)\n",
    "\n",
    "def save():\n",
    "    filename = fd.asksaveasfilename(title='make name', initialfile='qrcode.png')\n",
    "    if filename and hasattr(qr_label, 'qr_img'):\n",
    "        qr_label.qr_img.save(filename)\n",
    "        \n",
    "def exit():\n",
    "    base.destroy()\n",
    "    \n",
    "menubar = tk.Menu(base)\n",
    "filemenu = tk.Menu(menubar)\n",
    "menubar.add_cascade(label='File', menu=filemenu)\n",
    "filemenu.add_command(label='save', command=save)\n",
    "filemenu.add_separator()\n",
    "filemenu.add_command(label='exit', command=exit)\n",
    "base.config(menu=menubar)\n",
    "base.mainloop()"
   ]
  },
  {
   "cell_type": "code",
   "execution_count": null,
   "metadata": {},
   "outputs": [],
   "source": []
  }
 ],
 "metadata": {
  "kernelspec": {
   "display_name": "Python 3",
   "language": "python",
   "name": "python3"
  },
  "language_info": {
   "codemirror_mode": {
    "name": "ipython",
    "version": 3
   },
   "file_extension": ".py",
   "mimetype": "text/x-python",
   "name": "python",
   "nbconvert_exporter": "python",
   "pygments_lexer": "ipython3",
   "version": "3.6.6"
  }
 },
 "nbformat": 4,
 "nbformat_minor": 2
}
