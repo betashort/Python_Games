{
 "cells": [
  {
   "cell_type": "code",
   "execution_count": 1,
   "metadata": {},
   "outputs": [],
   "source": [
    "import qrcode\n",
    "\n",
    "url = \"https://betashort-lab.com\"\n",
    "\n",
    "img = qrcode.make(url)\n",
    "\n",
    "img.save(\"output.png\")"
   ]
  },
  {
   "cell_type": "code",
   "execution_count": null,
   "metadata": {},
   "outputs": [],
   "source": []
  },
  {
   "cell_type": "code",
   "execution_count": 2,
   "metadata": {},
   "outputs": [],
   "source": [
    "import cv2"
   ]
  },
  {
   "cell_type": "code",
   "execution_count": 3,
   "metadata": {},
   "outputs": [],
   "source": [
    "%matplotlib inline\n",
    "import matplotlib.pyplot as plt"
   ]
  },
  {
   "cell_type": "code",
   "execution_count": 6,
   "metadata": {},
   "outputs": [],
   "source": [
    "plt.show(img)"
   ]
  },
  {
   "cell_type": "code",
   "execution_count": 9,
   "metadata": {},
   "outputs": [],
   "source": [
    "from PIL import Image, ImageDraw\n",
    "\n",
    "images = []\n",
    "\n",
    "width = 200\n",
    "center = width // 2\n",
    "color_1 = (0, 0, 0)\n",
    "color_2 = (255, 255, 255)\n",
    "max_radius = int(center * 1.5)\n",
    "step = 8\n",
    "\n",
    "for i in range(0, max_radius, step):\n",
    "    im = Image.new('RGB', (width, width), color_1)\n",
    "    draw = ImageDraw.Draw(im)\n",
    "    draw.ellipse((center - i, center - i, center + i, center + i), fill=color_2)\n",
    "    images.append(im)\n",
    "\n",
    "for i in range(0, max_radius, step):\n",
    "    im = Image.new('RGB', (width, width), color_2)\n",
    "    draw = ImageDraw.Draw(im)\n",
    "    draw.ellipse((center - i, center - i, center + i, center + i), fill=color_1)\n",
    "    images.append(im)\n",
    "\n",
    "images[0].save('pillow_imagedraw.gif', save_all=True, append_images=images[1:], optimize=False, duration=40, loop=0)\n"
   ]
  },
  {
   "cell_type": "code",
   "execution_count": 10,
   "metadata": {},
   "outputs": [],
   "source": [
    "import tkinter as tk"
   ]
  },
  {
   "cell_type": "code",
   "execution_count": 11,
   "metadata": {},
   "outputs": [],
   "source": [
    "import tkinter as tk\n",
    "\n",
    "root = tk.Tk()\n",
    "root.title()\n",
    "root.minsize(640, 480)\n",
    "\n",
    "#キャンバスを作成\n",
    "canvas = tk.Canvas(bg=\"black\", width=640, height=480)\n",
    "#キャンバスを貼り付ける\n",
    "canvas.place(x=0, y=0)\n",
    "\n",
    "#画像の貼り付け\n",
    "#キャンバスの座標は、画像の中心が基準になっている。\n",
    "img = tk.PhotoImage(file=\"image\")\n",
    "canvas.create_image(x=, y=, image=img, tag=\"tag_name\")\n",
    "\n",
    "'''\n",
    "キャンバスを書き換える\n",
    "canvas.delete(\"tag_name\")\n",
    "'''\n",
    "\n",
    "#ウィンドウにテキストを貼り付ける\n",
    "l = tk.Label(text=\"\")\n",
    "l.place(X=, y=)\n",
    "\n",
    "'''\n",
    "ラベルの文字を変更する\n",
    "l[\"text\"] = 変更後\n",
    "'''\n",
    "\n",
    "#テキストボックス\n",
    "entry = tk.Entry(width=12, bd=4)\n",
    "entry.place(x=50, y=133)\n",
    "\n",
    "'''\n",
    "テキストボックスの文字を取り出す\n",
    "v = entry.get()\n",
    "'''\n",
    "\n",
    "#ボタン\n",
    "button = tk.Button(text=\"ボタン\")\n",
    "button.place(x=200, y=200)\n",
    "\n",
    "#ボタンが押された時の処理\n",
    "#1.関数を用意する。\n",
    "def click():\n",
    "    \n",
    "    tk.label(text=\"ボタンが押されました\").place(x=300, y=400)\n",
    "    \n",
    "#処理を書く\n",
    "button[\"command\"] = click\n",
    "\n",
    "\n",
    "#テキストボックスやボタンなどの状態を設定\n",
    "#disabledで、操作不能状態にする\n",
    "button[\"state\"] = \"disabled\"\n",
    "\n",
    "'''\n",
    "creat_rectangle(左上x, 左上y, 右下x, 右下y, オプション)\n",
    "\n",
    "update\n",
    "mainloop関数が表示を更新するが、強制的に画面を更新する時にupdate関数を使う。\n",
    "一定時間処理をストップさせるsleep関数\n",
    "\n",
    "time.sleep(停止秒数)\n",
    "\n",
    "\n",
    "'''\n",
    "\n",
    "root.mainloop()"
   ]
  },
  {
   "cell_type": "code",
   "execution_count": null,
   "metadata": {},
   "outputs": [],
   "source": []
  }
 ],
 "metadata": {
  "kernelspec": {
   "display_name": "Python 3",
   "language": "python",
   "name": "python3"
  },
  "language_info": {
   "codemirror_mode": {
    "name": "ipython",
    "version": 3
   },
   "file_extension": ".py",
   "mimetype": "text/x-python",
   "name": "python",
   "nbconvert_exporter": "python",
   "pygments_lexer": "ipython3",
   "version": "3.6.6"
  }
 },
 "nbformat": 4,
 "nbformat_minor": 2
}
