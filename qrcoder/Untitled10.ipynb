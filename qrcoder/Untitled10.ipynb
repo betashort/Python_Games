{
 "cells": [
  {
   "cell_type": "code",
   "execution_count": 1,
   "metadata": {},
   "outputs": [],
   "source": [
    "import tkinter as tk\n",
    "import qrcode\n",
    "\n",
    "\n",
    "def click():\n",
    "    save_name = f_name.get()\n",
    "    url = entry.get()\n",
    "    qr_img = qrcode.make(url)\n",
    "    qr_img.save(save_name + \".png\")\n",
    "    global img\n",
    "    img = tk.PhotoImage(file=save_name+\".png\")\n",
    "    label1 = tk.Label(image=img)\n",
    "    label1.place(x=400, y=0)\n",
    "    l[\"text\"] = \"Create QRcode : Done\"\n",
    "\n",
    "\n",
    "if __name__ == '__main__':\n",
    "    root = tk.Tk()\n",
    "    root.title(\"QRcode Generater\")\n",
    "    root.minsize(800, 480)\n",
    "    # ウィンドウにテキストを貼り付ける\n",
    "    l = tk.Label(root, text=\"Create QRcode : None\")\n",
    "    l.place(x=0, y=0)\n",
    "\n",
    "    # 画像の貼り付け\n",
    "    # キャンバスの座標は、画像の中心が基準になっている。\n",
    "    # キャンバスを作成\n",
    "    #canvas = tk.Canvas(bg='gray', width=400, height=480)\n",
    "    # キャンバスを貼り付ける\n",
    "    #canvas.place(x=400, y=0)\n",
    "    #canvas.create_image(0, 0, image=img, tag=\"tag_name\", anchor=tk.NW)\n",
    "\n",
    "    l2 = tk.Label(root, text=\"1. input URL or Text\")\n",
    "    l2.place(x=0, y=25)\n",
    "\n",
    "    # テキストボックス\n",
    "    entry = tk.Entry(root, width=30, bd=4)\n",
    "    entry.place(x=0, y=50)\n",
    "\n",
    "    l3 = tk.Label(root, text=\"2. save name\")\n",
    "    l3.place(x=0, y=100)\n",
    "\n",
    "    f_name = tk.Entry(root, width=30, bd=4)\n",
    "    f_name.place(x=0, y=150)\n",
    "\n",
    "    # ボタン\n",
    "    button = tk.Button(root, justify=tk.LEFT, text=\"create QRcode\")\n",
    "    button.place(x=0, y=200)\n",
    "\n",
    "    button[\"command\"] = click\n",
    "\n",
    "    root.mainloop()"
   ]
  },
  {
   "cell_type": "code",
   "execution_count": 5,
   "metadata": {},
   "outputs": [],
   "source": [
    "import qrcode\n",
    "save_name = \"my_site\"\n",
    "url = \"https://betashort-lab.com/%E3%83%87%E3%83%BC%E3%82%BF%E3%82%B5%E3%82%A4%E3%82%A8%E3%83%B3%E3%82%B9/competition-kagglesignate/\"\n",
    "qr_img = qrcode.make(url2)\n",
    "qr_img.save(save_name + \".png\")"
   ]
  },
  {
   "cell_type": "code",
   "execution_count": 4,
   "metadata": {},
   "outputs": [],
   "source": [
    "url2 = \"https://betashort-lab.com/データサイエンス/機械学習/kaggleの始め方-titanicコンペに参加/\""
   ]
  },
  {
   "cell_type": "code",
   "execution_count": null,
   "metadata": {},
   "outputs": [],
   "source": []
  }
 ],
 "metadata": {
  "kernelspec": {
   "display_name": "Python 3",
   "language": "python",
   "name": "python3"
  },
  "language_info": {
   "codemirror_mode": {
    "name": "ipython",
    "version": 3
   },
   "file_extension": ".py",
   "mimetype": "text/x-python",
   "name": "python",
   "nbconvert_exporter": "python",
   "pygments_lexer": "ipython3",
   "version": "3.7.5"
  }
 },
 "nbformat": 4,
 "nbformat_minor": 4
}
