{
 "cells": [
  {
   "cell_type": "code",
   "execution_count": 3,
   "metadata": {},
   "outputs": [],
   "source": [
    "import tkinter as tk\n",
    "from PIL import Image, ImageTk\n",
    "import urllib.request as req"
   ]
  },
  {
   "cell_type": "code",
   "execution_count": 1,
   "metadata": {},
   "outputs": [],
   "source": [
    "\n",
    " \n",
    "'''\n",
    "web上にある画像を保存します\n",
    "'''\n",
    "url = \"http://imgcc.naver.jp/kaze/mission/USER/20180519/35/3012705/157/500x718xedab7ba7e203cd7576d12004.jpg\"\n",
    "req.urlretrieve(url, \"test.jpg\")\n",
    " \n",
    "'''\n",
    "tkinterのメイン\n",
    "'''\n",
    "root = tk.Tk()\n",
    " \n",
    "root.geometry('800x560')\n",
    "root.title('IMG')\n",
    " \n",
    "canvas = tk.Canvas(\n",
    "    root, # 親要素をメインウィンドウに設定\n",
    "    width=500,  # 幅を設定\n",
    "    height=500 # 高さを設定\n",
    "    #relief=tk.RIDGE  # 枠線を表示\n",
    "    # 枠線の幅を設定\n",
    ")\n",
    " \n",
    "canvas.place(x=0, y=0)  # メインウィンドウ上に配置\n",
    " \n",
    "#PILでjpgを使用\n",
    "img1 = Image.open(open('test.jpg', 'rb'))\n",
    "img1.thumbnail((500, 500), Image.ANTIALIAS)\n",
    "img1 = ImageTk.PhotoImage(img1)  # 表示するイメージを用意\n",
    " \n",
    "canvas.create_image(  # キャンバス上にイメージを配置\n",
    "    0,  # x座標\n",
    "    0,  # y座標\n",
    "    image=img1,  # 配置するイメージオブジェクトを指定\n",
    "    tag=\"illust\",  # タグで引数を追加する。\n",
    "    anchor=tk.NW  # 配置の起点となる位置を左上隅に指定\n",
    ")\n",
    " \n",
    "root.mainloop()"
   ]
  },
  {
   "cell_type": "code",
   "execution_count": 5,
   "metadata": {},
   "outputs": [],
   "source": [
    "root = tk.Tk()\n",
    "root.title(\"first Label\")\n",
    "root.geometry(\"800x600\")\n",
    "label = tk.Label(root, text=\"labels\")\n",
    "label.place(x=200, y=100)\n",
    "root.mainloop()"
   ]
  },
  {
   "cell_type": "code",
   "execution_count": 2,
   "metadata": {},
   "outputs": [
    {
     "ename": "SyntaxError",
     "evalue": "unexpected EOF while parsing (<ipython-input-2-a42eebefaf75>, line 2)",
     "output_type": "error",
     "traceback": [
      "\u001b[0;36m  File \u001b[0;32m\"<ipython-input-2-a42eebefaf75>\"\u001b[0;36m, line \u001b[0;32m2\u001b[0m\n\u001b[0;31m    \u001b[0m\n\u001b[0m    ^\u001b[0m\n\u001b[0;31mSyntaxError\u001b[0m\u001b[0;31m:\u001b[0m unexpected EOF while parsing\n"
     ]
    }
   ],
   "source": [
    "if __name__ == '__main__':\n",
    "    "
   ]
  },
  {
   "cell_type": "code",
   "execution_count": null,
   "metadata": {},
   "outputs": [],
   "source": []
  }
 ],
 "metadata": {
  "kernelspec": {
   "display_name": "Python 3",
   "language": "python",
   "name": "python3"
  },
  "language_info": {
   "codemirror_mode": {
    "name": "ipython",
    "version": 3
   },
   "file_extension": ".py",
   "mimetype": "text/x-python",
   "name": "python",
   "nbconvert_exporter": "python",
   "pygments_lexer": "ipython3",
   "version": "3.7.5"
  }
 },
 "nbformat": 4,
 "nbformat_minor": 2
}
